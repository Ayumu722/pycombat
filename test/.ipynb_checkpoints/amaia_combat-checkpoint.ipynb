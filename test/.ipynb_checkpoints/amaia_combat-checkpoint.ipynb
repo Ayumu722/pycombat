{
 "cells": [
  {
   "cell_type": "code",
   "execution_count": 1,
   "metadata": {},
   "outputs": [],
   "source": [
    "import numpy as np\n",
    "import pandas as pd"
   ]
  },
  {
   "cell_type": "code",
   "execution_count": 3,
   "metadata": {},
   "outputs": [],
   "source": [
    "from pycombat import Combat"
   ]
  },
  {
   "cell_type": "code",
   "execution_count": 4,
   "metadata": {},
   "outputs": [],
   "source": [
    "Y = np.load('data2combat.npz')['Y']\n",
    "X = np.load('data2combat.npz')['M_fe']\n",
    "b = np.load('data2combat.npz')['batch']"
   ]
  },
  {
   "cell_type": "code",
   "execution_count": 5,
   "metadata": {},
   "outputs": [],
   "source": [
    "combat = Combat()\n",
    "Y_combat = combat.fit_transform(Y, b, X)"
   ]
  },
  {
   "cell_type": "code",
   "execution_count": 6,
   "metadata": {},
   "outputs": [],
   "source": [
    "covars = pd.DataFrame(X, columns=['age', 'sex'])\n",
    "covars['site'] = b"
   ]
  },
  {
   "cell_type": "code",
   "execution_count": 7,
   "metadata": {},
   "outputs": [
    {
     "name": "stdout",
     "output_type": "stream",
     "text": [
      "Creating design matrix..\n",
      "Standardizing data across features..\n",
      "Fitting L/S model and finding priors..\n",
      "Finding parametric adjustments..\n",
      "Final adjustment of data..\n"
     ]
    }
   ],
   "source": [
    "from neuroCombat import neuroCombat\n",
    "discrete_cols = ['sex']\n",
    "continuous_cols = ['age']\n",
    "batch_col = 'site'\n",
    "\n",
    "data_combat = neuroCombat(data=Y,\n",
    "                          covars=covars,\n",
    "                          batch_col=batch_col,\n",
    "                          discrete_cols=discrete_cols,\n",
    "                          continuous_cols=continuous_cols)"
   ]
  },
  {
   "cell_type": "code",
   "execution_count": 8,
   "metadata": {},
   "outputs": [
    {
     "data": {
      "text/plain": [
       "array([[1., 1.],\n",
       "       [1., 1.]])"
      ]
     },
     "execution_count": 8,
     "metadata": {},
     "output_type": "execute_result"
    }
   ],
   "source": [
    "np.corrcoef(Y_combat.flat, data_combat.flat)"
   ]
  },
  {
   "cell_type": "code",
   "execution_count": 48,
   "metadata": {},
   "outputs": [
    {
     "data": {
      "image/png": "[encoded data removed]",
      "text/plain": [
       "<Figure size 720x504 with 1 Axes>"
      ]
     },
     "metadata": {
      "needs_background": "light"
     },
     "output_type": "display_data"
    }
   ],
   "source": [
    "Y_combat_df_2 =pd.DataFrame(Y_combat_x)\n",
    "Y_combat_df_2['site'] = b\n",
    "\n",
    "plt.figure(figsize=(10,7))\n",
    "sns.boxplot(x='site', y='value', data = pd.melt(Y_combat_df_2, id_vars=['site']))\n",
    "plt.ylim([-4, 4])\n",
    "pass"
   ]
  },
  {
   "cell_type": "code",
   "execution_count": 42,
   "metadata": {},
   "outputs": [],
   "source": [
    "from scipy.stats import pearsonr\n",
    "ps_raw = [pearsonr(Y[:, ii], C[:,0])[1] for ii in range(Y.shape[1])]\n",
    "ps_combat = [pearsonr(Y_combat[:, ii], C[:,0])[1] for ii in range(Y.shape[1])]\n",
    "ps_combat_x = [pearsonr(Y_combat_x[:, ii], C[:,0])[1] for ii in range(Y.shape[1])]"
   ]
  },
  {
   "cell_type": "code",
   "execution_count": 46,
   "metadata": {},
   "outputs": [
    {
     "name": "stdout",
     "output_type": "stream",
     "text": [
      "1547\n",
      "0\n",
      "1163\n"
     ]
    }
   ],
   "source": [
    "from statsmodels.stats.multitest import multipletests\n",
    "print(sum(multipletests(ps_raw, method='fdr_bh')[0]))\n",
    "print(sum(multipletests(ps_combat, method='fdr_bh')[0]))\n",
    "print(sum(multipletests(ps_combat_x, method='fdr_bh')[0]))"
   ]
  },
  {
   "cell_type": "code",
   "execution_count": 53,
   "metadata": {},
   "outputs": [],
   "source": [
    "from scipy.stats import ttest_ind\n",
    "ps_sex_raw = [ttest_ind(Y[C[:, 1]==0,ii], Y[C[:, 1]==1,ii])[1] for ii in range(Y.shape[1])]\n",
    "ps_sex_combat = [ttest_ind(Y_combat[C[:, 1]==0,ii], Y_combat[C[:, 1]==1,ii])[1] for ii in range(Y.shape[1])]\n",
    "ps_sex_combat_x = [ttest_ind(Y_combat_x[C[:, 1]==0,ii], Y_combat_x[C[:, 1]==1,ii])[1] for ii in range(Y.shape[1])]"
   ]
  },
  {
   "cell_type": "code",
   "execution_count": 54,
   "metadata": {},
   "outputs": [
    {
     "name": "stdout",
     "output_type": "stream",
     "text": [
      "0\n",
      "0\n",
      "0\n"
     ]
    }
   ],
   "source": [
    "print(sum(multipletests(ps_sex_raw, method='fdr_bh')[0]))\n",
    "print(sum(multipletests(ps_sex_combat, method='fdr_bh')[0]))\n",
    "print(sum(multipletests(ps_sex_combat_x, method='fdr_bh')[0]))"
   ]
  },
  {
   "cell_type": "code",
   "execution_count": null,
   "metadata": {},
   "outputs": [],
   "source": []
  }
 ],
 "metadata": {
  "kernelspec": {
   "display_name": "Python 3",
   "language": "python",
   "name": "python3"
  },
  "language_info": {
   "codemirror_mode": {
    "name": "ipython",
    "version": 3
   },
   "file_extension": ".py",
   "mimetype": "text/x-python",
   "name": "python",
   "nbconvert_exporter": "python",
   "pygments_lexer": "ipython3",
   "version": "3.7.4"
  }
 },
 "nbformat": 4,
 "nbformat_minor": 2
}
