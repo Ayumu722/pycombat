{
 "cells": [
  {
   "cell_type": "markdown",
   "metadata": {},
   "source": [
    "In this notebook, we are going to show how pycombat works. This package implements Combat, a technique for data harmonisation based on a linear mixed model in which location and scale random effects across batches are adjusted using a bayesian approach (Johnson, 2007):\n",
    "\n",
    "$$ Y_{ijk} = \\alpha_k + X\\beta_k +  \\gamma_{ik} + \\delta_{ik}\\epsilon_{ijk}$$\n",
    "\n",
    "Original Combat tecnique also allowed to keep the baseline effects $\\alpha_k$ and the effects of interest $\\beta_k$ by reintroducing these after harmonisation:\n",
    "\n",
    "$$Y \\longrightarrow Y^{combat}_{ijk} = \\frac{Y_{ijk} - \\hat{\\alpha}_k - X\\hat{\\beta}_k - \\hat{\\gamma}_{ik}}{\\hat{\\delta}_{ik}} +  \\hat{\\alpha}_k + X\\hat{\\beta}_k $$\n",
    "\n",
    "One extension of this python package is the possibility of removing unwanted variables' effect by no reintroducing them again. Using the same linear mixed model of the begining, we now separte source of covariation $C$ from sources of effects of interest $X$:\n",
    "\n",
    "$$ Y_{ijk} = \\alpha_k + X\\beta_k + C\\beta_c  +  \\gamma_{ik} + \\delta_{ik}\\epsilon_{ijk}$$\n",
    "\n",
    "And then in this case, combat adjustment will be given by:\n",
    "\n",
    "$$Y \\longrightarrow Y^{combat}_{ijk} = \\frac{Y_{ijk} - \\hat{\\alpha}_k - X\\hat{\\beta}_k - C\\hat{\\beta}_c - \\hat{\\gamma}_{ik}}{\\hat{\\delta}_{ik}} +  \\hat{\\alpha}_k + X\\hat{\\beta}_k $$\n",
    "\n",
    "Such modification to combat has been recently proposed and applied by some authors (Wachinger, 2020).\n",
    "\n",
    "In this notebook, we are going to show how this package works by making use of a data on gene expression measurements from a bladder cancer study (Dyrskjot, 2004). We will then compare our results with those from neuroCombat (Fortin, 2017), a known python implementation of Combat (though this does not include the modification we have implemented).\n",
    "\n",
    "*References*:\n",
    "\n",
    "- W. Evan Johnson, Cheng Li, Ariel Rabinovic, Adjusting batch effects in microarray expression data using empirical Bayes methods, Biostatistics, Volume 8, Issue 1, January 2007, Pages 118–127, https://doi.org/10.1093/biostatistics/kxj037\n",
    "\n",
    "- L. Dyrskjot, M. Kruhoffer, T. Thykjaer, N. Marcussen, J. L. Jensen,K. Moller, and T. F. Orntoft. Gene expression in the urinary bladder: acommon carcinoma in situ gene expression signature exists disregardinghistopathological classification.Cancer Res., 64:4040–4048, Jun 2004.\n",
    "\n",
    "- Christian Wachinger, Anna Rieckmann, Sebastian Pölsterl. Detect and Correct Bias in Multi-Site Neuroimaging Datasets. arXiv:2002.05049 \n",
    "\n",
    "- Fortin, J. P., N. Cullen, Y. I. Sheline, W. D. Taylor, I. Aselcioglu, P. A. Cook, P. Adams, C. Cooper, M. Fava, P. J. McGrath, M. McInnis, M. L. Phillips, M. H. Trivedi, M. M. Weissman and R. T. Shinohara (2017). \"Harmonization of cortical thickness measurements across scanners and sites.\" Neuroimage 167: 104-120."
   ]
  },
  {
   "cell_type": "code",
   "execution_count": 1,
   "metadata": {},
   "outputs": [],
   "source": [
    "import numpy as np\n",
    "import pandas as pd\n",
    "import sys"
   ]
  },
  {
   "cell_type": "code",
   "execution_count": 2,
   "metadata": {},
   "outputs": [],
   "source": [
    "from pycombat import Combat"
   ]
  },
  {
   "cell_type": "markdown",
   "metadata": {},
   "source": [
    "Following the spirit of scikit-learn, Combat is a class that includes a method called **fit**, which finds the fitted values of the linear mixed model, and **transform**, a method that used the previously learning paramters to adjust the data. There is also a method called **fit_transform**, which concatenates both methods."
   ]
  },
  {
   "cell_type": "markdown",
   "metadata": {},
   "source": [
    "So the first thing that you need to do is to define a instance of this class"
   ]
  },
  {
   "cell_type": "code",
   "execution_count": 3,
   "metadata": {},
   "outputs": [],
   "source": [
    "combat = Combat()"
   ]
  },
  {
   "cell_type": "markdown",
   "metadata": {},
   "source": [
    "When you define the instance, you can pass it the following parameters:\n",
    "\n",
    "    - method: which is either \"p\" for paramteric or \"np\" for non-parametric (not implemented yet!!)\n",
    "    - conv: the criterion to decide when to stop the EB optimization step (default value = 0.0001)"
   ]
  },
  {
   "cell_type": "markdown",
   "metadata": {},
   "source": [
    "Now, you have to call the method **fit**, passsing it the data. These data will consist of the following ingredients:\n",
    "\n",
    "    - Y: The matrix of response variables, with dimensions [observations x features]\n",
    "    - b: The array of batch label for each observation. In principle these could be labelled as numbers or strings.\n",
    "    - X: The matrix of effects of interest to keep, with dimensions [observations x features_interest]\n",
    "    - C: The matrix of covariates to remove, with dimensions [observations x features_covariates]\n",
    "    \n",
    "***Important:*** If you have effects of interest or covariates that involve categorical features, make sure that you drop the first level of these categories when building the independent matrices, otherwise they would be singular. You can easily accomplished this using the pandas and **pd.get_dummies** with the option *drop_first* checked."
   ]
  },
  {
   "cell_type": "markdown",
   "metadata": {},
   "source": [
    "Let's then see how this package works"
   ]
  },
  {
   "cell_type": "code",
   "execution_count": 4,
   "metadata": {},
   "outputs": [
    {
     "name": "stdout",
     "output_type": "stream",
     "text": [
      "the matrix of response variables has 57 observations and 22283 outcome variables\n"
     ]
    }
   ],
   "source": [
    "# Y is the matrix of response variables\n",
    "Y = np.load('bladder-expr.npy')\n",
    "\n",
    "print(\"the matrix of response variables has %d observations and %d outcome variables\" % (Y.shape[0], Y.shape[1]))"
   ]
  },
  {
   "cell_type": "code",
   "execution_count": 5,
   "metadata": {},
   "outputs": [
    {
     "data": {
      "text/html": [
       "<div>\n",
       "<style scoped>\n",
       "    .dataframe tbody tr th:only-of-type {\n",
       "        vertical-align: middle;\n",
       "    }\n",
       "\n",
       "    .dataframe tbody tr th {\n",
       "        vertical-align: top;\n",
       "    }\n",
       "\n",
       "    .dataframe thead th {\n",
       "        text-align: right;\n",
       "    }\n",
       "</style>\n",
       "<table border=\"1\" class=\"dataframe\">\n",
       "  <thead>\n",
       "    <tr style=\"text-align: right;\">\n",
       "      <th></th>\n",
       "      <th>cel</th>\n",
       "      <th>sample</th>\n",
       "      <th>outcome</th>\n",
       "      <th>batch</th>\n",
       "      <th>cancer</th>\n",
       "      <th>age</th>\n",
       "    </tr>\n",
       "  </thead>\n",
       "  <tbody>\n",
       "    <tr>\n",
       "      <th>0</th>\n",
       "      <td>GSM71019.CEL</td>\n",
       "      <td>1</td>\n",
       "      <td>Normal</td>\n",
       "      <td>3</td>\n",
       "      <td>Normal</td>\n",
       "      <td>1</td>\n",
       "    </tr>\n",
       "    <tr>\n",
       "      <th>1</th>\n",
       "      <td>GSM71020.CEL</td>\n",
       "      <td>2</td>\n",
       "      <td>Normal</td>\n",
       "      <td>2</td>\n",
       "      <td>Normal</td>\n",
       "      <td>2</td>\n",
       "    </tr>\n",
       "    <tr>\n",
       "      <th>2</th>\n",
       "      <td>GSM71021.CEL</td>\n",
       "      <td>3</td>\n",
       "      <td>Normal</td>\n",
       "      <td>2</td>\n",
       "      <td>Normal</td>\n",
       "      <td>3</td>\n",
       "    </tr>\n",
       "    <tr>\n",
       "      <th>3</th>\n",
       "      <td>GSM71022.CEL</td>\n",
       "      <td>4</td>\n",
       "      <td>Normal</td>\n",
       "      <td>3</td>\n",
       "      <td>Normal</td>\n",
       "      <td>4</td>\n",
       "    </tr>\n",
       "    <tr>\n",
       "      <th>4</th>\n",
       "      <td>GSM71023.CEL</td>\n",
       "      <td>5</td>\n",
       "      <td>Normal</td>\n",
       "      <td>3</td>\n",
       "      <td>Normal</td>\n",
       "      <td>5</td>\n",
       "    </tr>\n",
       "  </tbody>\n",
       "</table>\n",
       "</div>"
      ],
      "text/plain": [
       "            cel  sample outcome  batch  cancer  age\n",
       "0  GSM71019.CEL       1  Normal      3  Normal    1\n",
       "1  GSM71020.CEL       2  Normal      2  Normal    2\n",
       "2  GSM71021.CEL       3  Normal      2  Normal    3\n",
       "3  GSM71022.CEL       4  Normal      3  Normal    4\n",
       "4  GSM71023.CEL       5  Normal      3  Normal    5"
      ]
     },
     "execution_count": 5,
     "metadata": {},
     "output_type": "execute_result"
    }
   ],
   "source": [
    "# This loads the set of independent variables, including the batch labels\n",
    "pheno = pd.read_csv('bladder-pheno.txt', delimiter='\\t')\n",
    "\n",
    "pheno.head()"
   ]
  },
  {
   "cell_type": "code",
   "execution_count": 6,
   "metadata": {},
   "outputs": [
    {
     "name": "stdout",
     "output_type": "stream",
     "text": [
      "We have 5 different batches\n"
     ]
    }
   ],
   "source": [
    "b = pheno.batch.values\n",
    "\n",
    "print(\"We have %d different batches\" % len(np.unique(b)))"
   ]
  },
  {
   "cell_type": "markdown",
   "metadata": {},
   "source": [
    "We also have information about the type of cancer and age in this data"
   ]
  },
  {
   "cell_type": "code",
   "execution_count": 7,
   "metadata": {},
   "outputs": [
    {
     "data": {
      "text/plain": [
       "Cancer    40\n",
       "Biopsy     9\n",
       "Normal     8\n",
       "Name: cancer, dtype: int64"
      ]
     },
     "execution_count": 7,
     "metadata": {},
     "output_type": "execute_result"
    }
   ],
   "source": [
    "pheno.cancer.value_counts()"
   ]
  },
  {
   "cell_type": "code",
   "execution_count": 8,
   "metadata": {},
   "outputs": [
    {
     "data": {
      "text/plain": [
       "count    57.000000\n",
       "mean      5.315789\n",
       "std       2.848295\n",
       "min       1.000000\n",
       "25%       3.000000\n",
       "50%       5.000000\n",
       "75%       8.000000\n",
       "max      10.000000\n",
       "Name: age, dtype: float64"
      ]
     },
     "execution_count": 8,
     "metadata": {},
     "output_type": "execute_result"
    }
   ],
   "source": [
    "pheno.describe()['age']"
   ]
  },
  {
   "cell_type": "markdown",
   "metadata": {},
   "source": [
    "Say we want to keep these two effects after combat harmonisation. We can then build our matrix X from these two variables"
   ]
  },
  {
   "cell_type": "code",
   "execution_count": 9,
   "metadata": {},
   "outputs": [
    {
     "name": "stdout",
     "output_type": "stream",
     "text": [
      "[[0 1 1]\n",
      " [0 1 2]\n",
      " [0 1 3]\n",
      " [0 1 4]\n",
      " [0 1 5]\n",
      " [0 1 6]\n",
      " [0 1 7]\n",
      " [0 1 1]\n",
      " [1 0 2]\n",
      " [1 0 3]]\n"
     ]
    }
   ],
   "source": [
    "X = np.column_stack((pd.get_dummies(pheno.cancer.values, drop_first=True).values,\n",
    "                    pheno.age.values))\n",
    "\n",
    "print(X[:10,:])"
   ]
  },
  {
   "cell_type": "markdown",
   "metadata": {},
   "source": [
    "And now we **fit** the combat model with these pieces"
   ]
  },
  {
   "cell_type": "code",
   "execution_count": 10,
   "metadata": {
    "scrolled": false
   },
   "outputs": [
    {
     "data": {
      "text/plain": [
       "<pycombat.pycombat.Combat at 0x7f06fc4dccd0>"
      ]
     },
     "execution_count": 10,
     "metadata": {},
     "output_type": "execute_result"
    }
   ],
   "source": [
    "combat.fit(Y, b, X=X, C=None) # X and C are None by default, so no need here to write C=None"
   ]
  },
  {
   "cell_type": "markdown",
   "metadata": {},
   "source": [
    "And then, we can adjust this dataset calling the **transform** method"
   ]
  },
  {
   "cell_type": "code",
   "execution_count": 11,
   "metadata": {},
   "outputs": [],
   "source": [
    "Y_combat = combat.transform(Y=Y, b=b, X=X)"
   ]
  },
  {
   "cell_type": "markdown",
   "metadata": {},
   "source": [
    "We can check that this gives the same result as that applying neuroCombat"
   ]
  },
  {
   "cell_type": "code",
   "execution_count": 12,
   "metadata": {},
   "outputs": [],
   "source": [
    "from neuroCombat import neuroCombat"
   ]
  },
  {
   "cell_type": "code",
   "execution_count": 13,
   "metadata": {},
   "outputs": [
    {
     "name": "stdout",
     "output_type": "stream",
     "text": [
      "Creating design matrix..\n",
      "Standardizing data across features..\n",
      "Fitting L/S model and finding priors..\n",
      "Finding parametric adjustments..\n",
      "Final adjustment of data..\n"
     ]
    }
   ],
   "source": [
    "discrete_cols = ['cancer']\n",
    "continuous_cols = ['age']\n",
    "batch_col = 'batch'\n",
    "\n",
    "Y_neurocombat = neuroCombat(data=Y,\n",
    "                            covars=pheno,\n",
    "                            batch_col=batch_col,\n",
    "                            discrete_cols=discrete_cols,\n",
    "                            continuous_cols=continuous_cols)"
   ]
  },
  {
   "cell_type": "code",
   "execution_count": 14,
   "metadata": {},
   "outputs": [
    {
     "data": {
      "text/plain": [
       "array([[1., 1.],\n",
       "       [1., 1.]])"
      ]
     },
     "execution_count": 14,
     "metadata": {},
     "output_type": "execute_result"
    }
   ],
   "source": [
    "np.corrcoef(Y_combat.flat, Y_neurocombat.flat)"
   ]
  }
 ],
 "metadata": {
  "kernelspec": {
   "display_name": "Python 3",
   "language": "python",
   "name": "python3"
  },
  "language_info": {
   "codemirror_mode": {
    "name": "ipython",
    "version": 3
   },
   "file_extension": ".py",
   "mimetype": "text/x-python",
   "name": "python",
   "nbconvert_exporter": "python",
   "pygments_lexer": "ipython3",
   "version": "3.7.4"
  }
 },
 "nbformat": 4,
 "nbformat_minor": 2
}
